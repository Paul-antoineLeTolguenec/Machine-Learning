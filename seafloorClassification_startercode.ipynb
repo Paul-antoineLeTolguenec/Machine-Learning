{
  "nbformat": 4,
  "nbformat_minor": 0,
  "metadata": {
    "accelerator": "GPU",
    "colab": {
      "name": "seafloorClassification_startercode.ipynb",
      "provenance": [],
      "collapsed_sections": [],
      "toc_visible": true,
      "include_colab_link": true
    },
    "kernelspec": {
      "display_name": "Python 3",
      "language": "python",
      "name": "python3"
    },
    "language_info": {
      "codemirror_mode": {
        "name": "ipython",
        "version": 3
      },
      "file_extension": ".py",
      "mimetype": "text/x-python",
      "name": "python",
      "nbconvert_exporter": "python",
      "pygments_lexer": "ipython3",
      "version": "3.6.9"
    }
  },
  "cells": [
    {
      "cell_type": "markdown",
      "metadata": {
        "id": "view-in-github",
        "colab_type": "text"
      },
      "source": [
        "<a href=\"https://colab.research.google.com/github/Paul-antoineLeTolguenec/Machine-Learning/blob/master/seafloorClassification_startercode.ipynb\" target=\"_parent\"><img src=\"https://colab.research.google.com/assets/colab-badge.svg\" alt=\"Open In Colab\"/></a>"
      ]
    },
    {
      "cell_type": "markdown",
      "metadata": {
        "id": "SZiULAOAv6AZ"
      },
      "source": [
        "# Machine Learning Programming Exercise 6: <ins>Supervised classification</ins>\n",
        "\n",
        "\n",
        "## Objectifs\n",
        "\n",
        "\n",
        "Nous allons dans ce TP classer automatiquement des patchs extraits d'images sonar (cf. figure ci-dessous) en types de fond marin (roches, sables, vases, rides de sable verticales et à 45°, [Posidonie](https://fr.wikipedia.org/wiki/Posidonia_oceanica)).\n",
        "\n",
        "Quelques exemples de patchs d'image sonar de fond marin:\n",
        "<img src=\"imgs/screenshot001.png\" />\n",
        "\n",
        "\n",
        "L'objectif est d'écrire des scripts permettant de mettre en \\oe uvre un système basé sur différentes approches supervisées de machine learning. Ces scripts devront ainsi suivre la chaîne générale décrite en cours (à l'exception de la phase de captation; cf. figure ci-dessous ) :\n",
        "* prétraitements\n",
        "* extraction des descripteurs\n",
        "* apprentissage d'un modèle de classement\n",
        "* classement des pixels\n",
        "* évaluation du classifieur appris\n",
        "\n",
        "<img src=\"imgs/screenshot002.png\" />\n",
        "\n",
        "Le TP est globalement organisé de la manière suivante\n",
        "* **Données**\n",
        " 1. tout d'abord apprendre les modèles de classement (classifieurs) sur les données brutes (descripteurs=features=valeurs des pixels) \n",
        " 2. puis dans un second temps sur des descripteurs extraits à partir d'un algorithme appelé [scattering operator](https://www.di.ens.fr/data/scattering) (le fonctionnement exact n'est pas au programme mais il s'apparente à une banque de filtres mise en cascade). \n",
        "\n",
        "* **Prétraitements** Aucun prétraitement ne sera réalisé. \n",
        "\n",
        "* **Ensembles de données**\n",
        " 1. Les ensembles de données seront composés de 1/3 de la base totale d'images. \n",
        " 2. Dans un second temps, nous procéderons par [validation croisée](https://scikit-learn.org/stable/modules/cross_validation.html) car la base d'images est de taille réduite.\n",
        "* **Algorithmes** \n",
        "    Concernant les algorithmes supervisés de machine learning, l'objectif est d'utiliser les deux algorithmes de regression logistique et de réseaux de neurones que vous avez développés aux TP précédents et de découvrir le package python [scikit-learn](http://scikit-learn.org/stable/user_guide.html) qui vous permettra d'utiliser les algorithmes de [régression logistique](https://scikit-learn.org/stable/modules/linear_model.html#logistic-regression), [réseaux de neurones](https://scikit-learn.org/stable/modules/neural_networks_supervised.html), [random forests](https://scikit-learn.org/stable/modules/ensemble.html#forest) et [svm](https://scikit-learn.org/stable/modules/svm.html#svm-classification).\n",
        "\n",
        "* Pour commencer avec cette séance, vous aurez besoin de **télécharger** le _starter code_  disponible sur le lien Moodle du cours.\n",
        "\n",
        "<span style='color:red'>**Dans cet exercice, il vous est demandé de fournir un rapport regroupant les réponses aux questions, vos analyses et vos codes. Ce rapport pourra prendre la forme d'un pdf ou d'un jupyter notebook. Il est de plus conseillé de faire tourner les codes sur google colab si votre machine manque de puissance (dans ce cas un jupyter notebook est nécessaire).**</span>\n",
        "\n",
        "\n",
        "## Fichiers inclus dans le starter code pour cette séance\n",
        "* **pythonTools.py** - fonctions utiles pour l'affichage, le chargement des données et l'évaluation des performances\n",
        "* **usefulCmds.py** - quelques commandes pour faciliter l'import des patchs\n",
        "* **dataSet** - répertoire avec les images et les labels correspondants\n",
        "* **dataSet\\imdb_200x200_SmallSonarTex_db_6classes_scatValOnly.mat** - fichier matlab contenant les descripteurs extraits des images par le scattering operator\n",
        "\n"
      ]
    },
    {
      "cell_type": "code",
      "metadata": {
        "colab": {
          "base_uri": "https://localhost:8080/"
        },
        "id": "nD6h-dhkQyme",
        "outputId": "1e1edadc-14f4-4733-dd62-73ff4ac89e3a"
      },
      "source": [
        "from google.colab import drive\n",
        "drive.mount('/content/drive')"
      ],
      "execution_count": null,
      "outputs": [
        {
          "output_type": "stream",
          "text": [
            "Drive already mounted at /content/drive; to attempt to forcibly remount, call drive.mount(\"/content/drive\", force_remount=True).\n"
          ],
          "name": "stdout"
        }
      ]
    },
    {
      "cell_type": "code",
      "metadata": {
        "id": "9ROQS1AmHDsT"
      },
      "source": [
        "import os\n",
        "os.chdir('./Machine-Learning')"
      ],
      "execution_count": 9,
      "outputs": []
    },
    {
      "cell_type": "code",
      "metadata": {
        "colab": {
          "base_uri": "https://localhost:8080/"
        },
        "id": "beVh7Z5UIapT",
        "outputId": "b49d38b7-b3be-4fdb-bc39-f39af70bce8c"
      },
      "source": [
        "!git pull"
      ],
      "execution_count": 12,
      "outputs": [
        {
          "output_type": "stream",
          "text": [
            "Already up to date.\n"
          ],
          "name": "stdout"
        }
      ]
    },
    {
      "cell_type": "markdown",
      "metadata": {
        "id": "8-Y6TWZBv6Ab"
      },
      "source": [
        "# Part 0: intro"
      ]
    },
    {
      "cell_type": "markdown",
      "metadata": {
        "id": "wsF0iPYhv6Ae"
      },
      "source": [
        "## 0.1 imports"
      ]
    },
    {
      "cell_type": "markdown",
      "metadata": {
        "id": "H9vExjoNv6Af"
      },
      "source": [
        "_Your commented code below_"
      ]
    },
    {
      "cell_type": "code",
      "metadata": {
        "colab": {
          "base_uri": "https://localhost:8080/"
        },
        "id": "vQhXCVuAv6Ag",
        "outputId": "0e2c98b4-cda2-4a5c-8634-850c127bd11b"
      },
      "source": [
        "from pythonTools import *\n",
        "from usefulCmds import *\n",
        "import pandas as pd\n",
        "import numpy as np\n",
        "import matplotlib.pyplot as plt\n",
        "from sklearn.preprocessing import StandardScaler\n"
      ],
      "execution_count": 13,
      "outputs": [
        {
          "output_type": "stream",
          "text": [
            "None\n"
          ],
          "name": "stdout"
        }
      ]
    },
    {
      "cell_type": "markdown",
      "metadata": {
        "id": "oEAis_r1v6Ar"
      },
      "source": [
        "## 0.2 Examen des données\n",
        "\n",
        "Écrire des lignes de code permettant:\n",
        "* de charger les données comprises dans le fichier _labels.csv_,\n",
        "* de mettre en matrice les descripteurs de l'ensemble de la base d'images\n",
        "* d'afficher les images avec la fonction _plot\\_batch()_ du fichier \\_pythonTools.py_,\n"
      ]
    },
    {
      "cell_type": "markdown",
      "metadata": {
        "id": "V5dDA5Kiv6Ar"
      },
      "source": [
        "_Your commented code below_"
      ]
    },
    {
      "cell_type": "code",
      "metadata": {
        "colab": {
          "base_uri": "https://localhost:8080/"
        },
        "id": "xGqVIrCxv6At",
        "scrolled": false,
        "outputId": "05054da4-bf9e-4473-e995-62c9f2f9072d"
      },
      "source": [
        "# Charger le fichier CSV\n",
        "DATASET_PATH = r'./dataset/imgs/'\n",
        "LABEL_PATH = r'./dataset/labels/labels.csv'\n",
        "dataset_df = pd.read_csv(LABEL_PATH)\n",
        "\n",
        "\n",
        "print(\"----------------------------------------Data information--------------------------------------------\")\n",
        "#print nombre de données\n",
        "print(\"Dimensions du dataset:\",dataset_df.shape)\n",
        "\n",
        "#Nombre de classes:\n",
        "print(pd.unique(dataset_df['seafloor']).tolist())\n",
        "#Nombre d'images par classes\n",
        "print(dataset_df.groupby('seafloor').nunique())\n",
        "\n",
        "#Ploting batch\n",
        "print(\"----------------------------------------Batch--------------------------------------------\")\n",
        "#getting 5 random data\n",
        "batch=load_batch(dataset_df,5)\n",
        "print(batch)"
      ],
      "execution_count": 14,
      "outputs": [
        {
          "output_type": "stream",
          "text": [
            "----------------------------------------Data information--------------------------------------------\n",
            "Dimensions du dataset: (360, 2)\n",
            "['Posidonia', 'Ripple 45°', 'Rock', 'Sand', 'Silt', 'Ripple vertical']\n",
            "                 id\n",
            "seafloor           \n",
            "Posidonia        60\n",
            "Ripple 45°       60\n",
            "Ripple vertical  60\n",
            "Rock             60\n",
            "Sand             60\n",
            "Silt             60\n",
            "----------------------------------------Batch--------------------------------------------\n",
            "                                 id         seafloor\n",
            "281             Silt_Sure.02714.png             Silt\n",
            "354  Ripple vertical_Sure.00489.png  Ripple vertical\n",
            "333  Ripple vertical_Sure.00201.png  Ripple vertical\n",
            "33         Posidonia_Sure.00085.png        Posidonia\n",
            "68        Ripple 45°_Sure.00025.png       Ripple 45°\n"
          ],
          "name": "stdout"
        }
      ]
    },
    {
      "cell_type": "markdown",
      "metadata": {
        "id": "jbI5IPb4v6Az"
      },
      "source": [
        "**Question: Quels sont le nombre de données et le nombre de descripteurs?**"
      ]
    },
    {
      "cell_type": "markdown",
      "metadata": {
        "id": "fZ2JIo5Jv6A0"
      },
      "source": [
        "Il y a 360 données. C'est données sont réparties en 6 classes. \n",
        "Il y a 60 images par classes.\n",
        "\n",
        "Il y a 40000 descipteurs par images.(voir plus bas)\n",
        "\n",
        "Posidonia        60         \n",
        "Ripple 45°       60         \n",
        "Ripple vertical  60         \n",
        "Rock             60     \n",
        "Sand             60       \n",
        "Silt             60         "
      ]
    },
    {
      "cell_type": "code",
      "metadata": {
        "id": "vV1nRYDQQujT"
      },
      "source": [
        "# We add another column to the labels dataset to identify image path\n",
        "dataset_df['image_path'] = dataset_df.apply( lambda row: (DATASET_PATH + row[\"id\"] ), axis=1)\n",
        "\n",
        "# Chargement des images\n",
        "feature_values = np.array([plt.imread(img).reshape(40000,) for img in dataset_df['image_path'].values.tolist()])\n"
      ],
      "execution_count": 15,
      "outputs": []
    },
    {
      "cell_type": "markdown",
      "metadata": {
        "id": "jCk7ykINv6A1"
      },
      "source": [
        "## 0.3 prétraitements des labels\n",
        "\n",
        "Écrire des lignes de code, un script ou une fonction _preprocessing()_ permettant:\n",
        "* de disposer des labels dans différents [codages](https://scikit-learn.org/stable/modules/preprocessing_targets.html) (noms, indices, one-hot-encoding, etc.) \n"
      ]
    },
    {
      "cell_type": "markdown",
      "metadata": {
        "id": "-1GzYnP5v6A3"
      },
      "source": [
        "_Your commented code below_"
      ]
    },
    {
      "cell_type": "code",
      "metadata": {
        "id": "CW41N-eHv6A3"
      },
      "source": [
        "import tensorflow as tf\n",
        "# Récupération des labels\n",
        "label_names = dataset_df['seafloor']\n",
        "label_names_unique = label_names.unique()\n",
        "\n",
        "#  transformation des labels selon différents codages\n",
        "# indices\n",
        "\n",
        "\n",
        "le = preprocessing.LabelEncoder()\n",
        "le.fit(label_names_unique)\n",
        "label_indices = le.transform(label_names_unique)\n",
        "\n",
        "# one-hot-encoding\n",
        "label_ohe = pd.get_dummies(label_names.reset_index(drop=True)).values\n",
        "\n",
        "# Getting labels for our dataset\n",
        "#y = le.transform(label_names)\n",
        "y = tf.keras.utils.to_categorical(y)\n"
      ],
      "execution_count": 24,
      "outputs": []
    },
    {
      "cell_type": "markdown",
      "metadata": {
        "id": "0tu9u9Oqv6A8"
      },
      "source": [
        "## 0.4 Séparation des données en ensembles \n",
        "\n",
        "Écrire des lignes de code, un script ou une fonction _preprocessing()_ permettant:\n",
        "* de [normaliser](https://scikit-learn.org/stable/modules/preprocessing.html) les données si besoin \n",
        "* de [créer deux ensembles](https://scikit-learn.org/stable/modules/generated/sklearn.model_selection.train_test_split.html#sklearn.model_selection.train_test_split) un pour l'apprentissage et un pour le test\n"
      ]
    },
    {
      "cell_type": "markdown",
      "metadata": {
        "id": "g1p9-v4cv6A9"
      },
      "source": [
        "_Your commented code below_"
      ]
    },
    {
      "cell_type": "code",
      "metadata": {
        "id": "g1ziGWKoQujT"
      },
      "source": [
        ""
      ],
      "execution_count": null,
      "outputs": []
    },
    {
      "cell_type": "code",
      "metadata": {
        "colab": {
          "base_uri": "https://localhost:8080/"
        },
        "id": "xjAfwumev6A-",
        "outputId": "a8a45575-ef7d-446a-f14a-a7f9de527b9a"
      },
      "source": [
        "# Splitting the dataset into the Training set and Test set\n",
        "\n",
        "X_train, X_test, y_train, y_test = train_test_split(feature_values, y, test_size = 0.25, random_state = 0)\n",
        "print(X_train.shape, y_train.shape, X_test.shape, y_test.shape)\n"
      ],
      "execution_count": 25,
      "outputs": [
        {
          "output_type": "stream",
          "text": [
            "(270, 40000) (270, 6) (90, 40000) (90, 6)\n"
          ],
          "name": "stdout"
        }
      ]
    },
    {
      "cell_type": "markdown",
      "metadata": {
        "id": "pcDIy1Nmv6BD"
      },
      "source": [
        "<strong>Question:</strong> Pour <ins>chaque ensemble de données</ins> et <ins>pour chaque classe</ins>, quels sont le nombre de données et le nombre de descripteurs? Est-ce important? Pourquoi?"
      ]
    },
    {
      "cell_type": "markdown",
      "metadata": {
        "id": "8nCFuRy2v6BE"
      },
      "source": [
        "Il y a 75 pourcents des données dans Xtrain et 25 pourcents des données dans Xtest.\n",
        "\n",
        "X_train= 270 examples\n",
        "\n",
        "X_test= 90 examples\n",
        "\n",
        "Pour chaques images il y a 40000 descripteurs (200*200)\n"
      ]
    },
    {
      "cell_type": "markdown",
      "metadata": {
        "id": "kxTChVG1QujT"
      },
      "source": [
        "_Your commented code below_"
      ]
    },
    {
      "cell_type": "code",
      "metadata": {
        "id": "tcAN-a-2QujT"
      },
      "source": [
        "#Lets create a validation set\n",
        "#X_train, X_val, y_train, y_val = train_test_split(X_train, y_train, test_size=0.25, random_state=1) # 0.25 x 0.8 = 0.2\n",
        "#print(X_train.shape, y_train.shape, X_test.shape, y_test.shape,X_val.shape, y_val.shape)\n"
      ],
      "execution_count": null,
      "outputs": []
    },
    {
      "cell_type": "markdown",
      "metadata": {
        "id": "b6nioyvrv6BE"
      },
      "source": [
        "# Part 1 approches supervisées sur données brutes"
      ]
    },
    {
      "cell_type": "markdown",
      "metadata": {
        "id": "ZtkGMAtqv6BF"
      },
      "source": [
        "<strong><ins>Question</ins>: Y-a-t-il besoin de normaliser les descripteurs? Si oui, que faut-il conserver comme information et pourquoi?</strong> "
      ]
    },
    {
      "cell_type": "markdown",
      "metadata": {
        "id": "zbFeb9jAv6BG"
      },
      "source": [
        "Il est necessaire de normaliser les descripteurs. En effet de cette façon le modèle converge plus rapidement.On associe à chaque descripteurs la même importance dans la prédiction."
      ]
    },
    {
      "cell_type": "code",
      "metadata": {
        "id": "2Ly2nTOXQujT"
      },
      "source": [
        "sc = StandardScaler()\n",
        "X_train = sc.fit_transform(X_train)\n",
        "X_test = sc.transform(X_test)\n",
        "#X_val = sc.transform(X_val)"
      ],
      "execution_count": 26,
      "outputs": []
    },
    {
      "cell_type": "markdown",
      "metadata": {
        "id": "01PQN1yev6Bl"
      },
      "source": [
        "**<ins>Question</ins>: Nous allons apprendre les modèles suivants:\n",
        "* régression logistique régularisée et réseaux de neurones développés dans les tps précédents,\n",
        "* régression logistique, réseaux de neurones (solver=lbfgs), svm et random forest en utilisant les fonctions du package scikit-learn\n",
        "\n",
        "Faire la liste des hyper-paramètres (paramètre uniquement lié à l'algorithme d'apprentissage) de chaque algorithme. Comment fixe-t-on leurs valeurs?**"
      ]
    },
    {
      "cell_type": "markdown",
      "metadata": {
        "id": "BxHG8upGv6BO"
      },
      "source": [
        "# Pour la regression logistique regularisée les hyper-paramètres du modèle sont :\n",
        "\n",
        "-le taux d'apprendtissage\n",
        "\n",
        "-le paramètre de régularisation\n",
        "\n",
        "# Pour le réseau de neurones:\n",
        "\n",
        "-le taux d'apprentissage\n",
        "\n",
        "-le nombre d'hidden layer\n",
        "\n",
        "# Pour le random forest:\n",
        "\n",
        "-la pronfondeur des arbres\n",
        "\n",
        "-le nombre d'arbres dans la forêt"
      ]
    },
    {
      "cell_type": "markdown",
      "metadata": {
        "id": "tE40sCAMv6BG"
      },
      "source": [
        "<strong><ins>Question</ins>: Fixez au mieux les valeurs des hyperparamètres, réalisez l'apprentissage des modèles suivants: \n",
        "* régression logistique régularisée et réseaux de neurones développés dans les tps précédents,\n",
        "* régression logistique, réseaux de neurones, svm et random forest en utilisant les fonctions du package scikit-learn\n",
        "</strong>"
      ]
    },
    {
      "cell_type": "markdown",
      "metadata": {
        "id": "BRvvdn-Ev6BH"
      },
      "source": [
        "_Your code below_"
      ]
    },
    {
      "cell_type": "code",
      "metadata": {
        "id": "lAH-qWBaQujU",
        "outputId": "9da01521-38f0-44c3-b09d-56392dae1697"
      },
      "source": [
        "#-------------------REGRESSION LOGISTIQUE REGULARISEE---------------------\n",
        "from linearRegCostFunction import linearRegCostFunction\n",
        "from trainLinearReg import trainLinearReg\n",
        "from learningCurve import learningCurve\n",
        "from polyFeatures import polyFeatures\n",
        "from featureNormalize import featureNormalize\n",
        "from plotFit import plotFit\n",
        "from validationCurve import validationCurve\n",
        "import numpy as np\n",
        "from nnCostFunction import nnCostFunction\n",
        "import scipy.io\n",
        "from scipy.optimize import minimize, fmin_cg, fmin_l_bfgs_b\n",
        "import numpy as np\n",
        "#-------------------NEURAL NETWORK-----\n",
        "\n",
        "\n",
        "\n",
        "\n",
        "def randInitializeWeights(L_in, L_out):\n",
        "    E = 0.12\n",
        "    W = np.random.rand(L_out, 1+L_in) * 2 * E - E\n",
        "    return W\n",
        "\n",
        "\n",
        "input_layer_size  = 40000\n",
        "hidden_layer_size = 25 \n",
        "num_labels = 6    \n",
        "\n",
        "\n",
        "\n",
        "print('\\n -------------------------- \\n')\n",
        "print('Initializing Neural Network Parameters ...')\n",
        "\n",
        "\n",
        "initial_theta1 = randInitializeWeights(input_layer_size, hidden_layer_size)\n",
        "initial_theta2 = randInitializeWeights(hidden_layer_size, num_labels)\n",
        "\n",
        "\n",
        "print(initial_theta1.T.ravel().shape)\n",
        "print(initial_theta2.T.ravel().shape)\n",
        "\n",
        "initial_nn_params = np.hstack((initial_theta1.T.ravel(), initial_theta2.T.ravel()))\n",
        "\n",
        "\n",
        "print(initial_nn_params.shape)\n",
        "\n"
      ],
      "execution_count": null,
      "outputs": [
        {
          "output_type": "stream",
          "text": [
            "\n",
            " -------------------------- \n",
            "\n",
            "Initializing Neural Network Parameters ...\n",
            "(1000025,)\n",
            "(156,)\n",
            "(1000181,)\n"
          ],
          "name": "stdout"
        }
      ]
    },
    {
      "cell_type": "code",
      "metadata": {
        "id": "_qoOtsY9QujU",
        "outputId": "18bf008d-98fd-4205-f4b7-47ee0e7ec5f8"
      },
      "source": [
        "print(y_train.shape)"
      ],
      "execution_count": null,
      "outputs": [
        {
          "output_type": "stream",
          "text": [
            "(270,)\n"
          ],
          "name": "stdout"
        }
      ]
    },
    {
      "cell_type": "code",
      "metadata": {
        "id": "FZb9pYP9QujU",
        "outputId": "5d7ae220-b7a7-4779-d906-50e3b875115e"
      },
      "source": [
        "print('\\n -------------------------- \\n')\n",
        "print('Training Neural Network... ')\n",
        "\n",
        "Lambda = 1\n",
        "costFunc = lambda p: nnCostFunction(p, input_layer_size, hidden_layer_size, num_labels, X_train, y_train, Lambda)[0]\n",
        "gradFunc = lambda p: nnCostFunction(p, input_layer_size, hidden_layer_size, num_labels, X_train, y_train, Lambda)[1]\n",
        "\n",
        "result = fmin_cg(costFunc, fprime=gradFunc, x0=initial_nn_params, maxiter=100, disp=True,full_output=True)\n",
        "\n",
        "nn_params = result[0]\n",
        "cost = result[1]\n",
        "theta1 = nn_params[0:(hidden_layer_size*(input_layer_size+1))].reshape((input_layer_size+1),hidden_layer_size).T\n",
        "theta2 = nn_params[(hidden_layer_size*(input_layer_size+1)):].reshape((hidden_layer_size+1),num_labels).T\n",
        "\n",
        "\n",
        "\n",
        "\n",
        "\n"
      ],
      "execution_count": null,
      "outputs": [
        {
          "output_type": "stream",
          "text": [
            "\n",
            " -------------------------- \n",
            "\n",
            "Training Neural Network... \n",
            "Warning: Maximum number of iterations has been exceeded.\n",
            "         Current function value: 9.487272\n",
            "         Iterations: 100\n",
            "         Function evaluations: 159\n",
            "         Gradient evaluations: 159\n"
          ],
          "name": "stdout"
        }
      ]
    },
    {
      "cell_type": "code",
      "metadata": {
        "id": "u0Lqb8n1QujU"
      },
      "source": [
        "def predictNeuralNetwork(Theta1, Theta2, X):\n",
        "  \"\"\" outputs the predicted label of X given the\n",
        "  trained weights of a neural network (Theta1, Theta2)\n",
        "  \"\"\"\n",
        "  m, _ = X.shape\n",
        "  num_labels, _ = Theta2.shape\n",
        "  probas = sigmoid(Theta2 @ (np.vstack((np.ones((1, m)), sigmoid(Theta1 @ X.T)))))\n",
        "  p = np.argmax(probas, axis=0).reshape((m, 1))\n",
        "  return p.flatten()"
      ],
      "execution_count": null,
      "outputs": []
    },
    {
      "cell_type": "code",
      "metadata": {
        "id": "zL5Iu1kpQujU",
        "outputId": "7bb89419-a9b0-43bf-c26a-d65df8f35fc5"
      },
      "source": [
        "m, _ = X_test.shape\n",
        "Xp = np.column_stack((np.ones((m, 1)), X_test))\n",
        "\n",
        "y_pred = predictNeuralNetwork(theta1, theta2, Xp)\n",
        "\n",
        "accuracy = np.mean(np.double(y_pred == y_test.flatten())) * 100\n",
        "print('Training Set Accuracy: %f\\n'% accuracy)"
      ],
      "execution_count": null,
      "outputs": [
        {
          "output_type": "stream",
          "text": [
            "Training Set Accuracy: 42.222222\n",
            "\n"
          ],
          "name": "stdout"
        }
      ]
    },
    {
      "cell_type": "code",
      "metadata": {
        "id": "cyFdivOgQujU",
        "outputId": "4a9d05e5-774e-4f1b-f74a-4ced4b293112"
      },
      "source": [
        "plot_confusion_matrix(y_test, y_pred, label_names_unique,\n",
        "                          normalize=True,\n",
        "                          title=\"Matrix Confusion\",\n",
        "                          cmap=plt.cm.Blues)"
      ],
      "execution_count": null,
      "outputs": [
        {
          "output_type": "stream",
          "text": [
            "Normalized confusion matrix\n",
            "[[0.46666667 0.         0.26666667 0.         0.2        0.06666667]\n",
            " [0.23529412 0.11764706 0.         0.         0.47058824 0.17647059]\n",
            " [0.1        0.         0.1        0.1        0.3        0.4       ]\n",
            " [0.0625     0.         0.25       0.125      0.125      0.4375    ]\n",
            " [0.         0.         0.         0.         1.         0.        ]\n",
            " [0.25       0.         0.0625     0.         0.0625     0.625     ]]\n"
          ],
          "name": "stdout"
        },
        {
          "output_type": "execute_result",
          "data": {
            "text/plain": [
              "<AxesSubplot:title={'center':'Matrix Confusion'}, xlabel='Predicted label', ylabel='True label'>"
            ]
          },
          "metadata": {
            "tags": []
          },
          "execution_count": 99
        },
        {
          "output_type": "display_data",
          "data": {
            "image/png": "[encoded data removed]",
            "text/plain": [
              "<Figure size 432x288 with 2 Axes>"
            ]
          },
          "metadata": {
            "tags": [],
            "needs_background": "light"
          }
        }
      ]
    },
    {
      "cell_type": "code",
      "metadata": {
        "id": "6A9S3-YFQujV",
        "colab": {
          "base_uri": "https://localhost:8080/"
        },
        "outputId": "7b7d9ec4-7a2c-4b30-d9a2-b3f4177bb3fc"
      },
      "source": [
        "#-------------------NEURAL NETWORK WITH SCIKIT LEARN AND TENSORFLOW---------------------\n",
        "# Importing libraries\n",
        "from keras.models import Sequential\n",
        "from keras.layers import Conv2D\n",
        "from keras.layers import MaxPooling2D\n",
        "from keras.layers import Flatten\n",
        "from keras.layers import Dense\n",
        "from keras.layers import Dropout\n",
        "\n",
        "from sklearn.model_selection import GridSearchCV\n",
        "from keras.wrappers.scikit_learn import KerasClassifier\n",
        "\n",
        "#Fonction de construction du CNN\n",
        "def build_classifier(optimizer='adam'):\n",
        "    # Initialising the CNN\n",
        "    classifier = Sequential()\n",
        "\n",
        "    # Step 4 - Full connection\n",
        "    classifier.add(Dense(units = 128, activation = 'relu',input_dim = 40000))\n",
        "    classifier.add(Dense(units = 128, activation = 'relu'))\n",
        "    #classifier.add(Dense(units = 128, activation = 'relu'))\n",
        "\n",
        "    classifier.add(Dense(units = 6, activation = 'softmax'))\n",
        "\n",
        "    # Compiling the CNN\n",
        "    classifier.compile(optimizer = 'adam', loss = 'categorical_crossentropy', metrics = ['accuracy'])\n",
        "    return classifier\n",
        "\n",
        "#Instance du classifier\n",
        "classifier = KerasClassifier(build_fn = build_classifier)\n",
        "\n",
        "#Liste de paramétres à tester lors de l'entraînement.\n",
        "parameters = {'batch_size': [50],\n",
        "              'epochs': [150],\n",
        "              'optimizer': ['adam']}\n",
        "#Création de la grille d'entraînement.\n",
        "grid_search = GridSearchCV(estimator = classifier,\n",
        "                           param_grid = parameters,\n",
        "                           scoring = 'accuracy',\n",
        "                           cv = 5)\n",
        "#On entraîne avec les différents paramètres spécipfiés dans la liste.\n",
        "grid_search = grid_search.fit(X_train, y_train,verbose=0)\n",
        "#On évalue le score et les meilleurs paramétres\n",
        "best_parameters = grid_search.best_params_\n",
        "best_accuracy = grid_search.best_score_\n",
        "print(best_accuracy,best_parameters)\n",
        "score = grid_search.score(X_test, y_test)\n",
        "print(score)"
      ],
      "execution_count": 20,
      "outputs": [
        {
          "output_type": "stream",
          "text": [
            "WARNING:tensorflow:From /usr/local/lib/python3.6/dist-packages/tensorflow/python/keras/wrappers/scikit_learn.py:241: Sequential.predict_classes (from tensorflow.python.keras.engine.sequential) is deprecated and will be removed after 2021-01-01.\n",
            "Instructions for updating:\n",
            "Please use instead:* `np.argmax(model.predict(x), axis=-1)`,   if your model does multi-class classification   (e.g. if it uses a `softmax` last-layer activation).* `(model.predict(x) > 0.5).astype(\"int32\")`,   if your model does binary classification   (e.g. if it uses a `sigmoid` last-layer activation).\n",
            "WARNING:tensorflow:5 out of the last 9 calls to <function Model.make_predict_function.<locals>.predict_function at 0x7f002f5338c8> triggered tf.function retracing. Tracing is expensive and the excessive number of tracings could be due to (1) creating @tf.function repeatedly in a loop, (2) passing tensors with different shapes, (3) passing Python objects instead of tensors. For (1), please define your @tf.function outside of the loop. For (2), @tf.function has experimental_relax_shapes=True option that relaxes argument shapes that can avoid unnecessary retracing. For (3), please refer to https://www.tensorflow.org/tutorials/customization/performance#python_or_tensor_args and https://www.tensorflow.org/api_docs/python/tf/function for  more details.\n",
            "0.4 {'batch_size': 50, 'epochs': 150, 'optimizer': 'adam'}\n",
            "WARNING:tensorflow:6 out of the last 11 calls to <function Model.make_predict_function.<locals>.predict_function at 0x7effb2623400> triggered tf.function retracing. Tracing is expensive and the excessive number of tracings could be due to (1) creating @tf.function repeatedly in a loop, (2) passing tensors with different shapes, (3) passing Python objects instead of tensors. For (1), please define your @tf.function outside of the loop. For (2), @tf.function has experimental_relax_shapes=True option that relaxes argument shapes that can avoid unnecessary retracing. For (3), please refer to https://www.tensorflow.org/tutorials/customization/performance#python_or_tensor_args and https://www.tensorflow.org/api_docs/python/tf/function for  more details.\n",
            "0.4444444444444444\n"
          ],
          "name": "stdout"
        }
      ]
    },
    {
      "cell_type": "code",
      "metadata": {
        "id": "2oF8DvhuQujV",
        "colab": {
          "base_uri": "https://localhost:8080/",
          "height": 165
        },
        "outputId": "d632f276-932c-4c69-9fa3-12cdfc06fe6e"
      },
      "source": [
        "#-------------------------------LEARNING CURVE FOR NEURAL NETWORK ONLY-----------------------------------------------#\n",
        "from keras.optimizers import Adam\n",
        "import matplotlib.pyplot as pyplot\n",
        "\n",
        "\n",
        "def fit_model(trainX, trainy, testX, testy, lrate):\n",
        "\t# define model\n",
        "\tmodel = Sequential()\n",
        "\tmodel.add(Dense(120, input_dim=40000, activation='relu', kernel_initializer='he_uniform'))\n",
        "\tmodel.add(Dense(6, activation='softmax'))\n",
        "\t# compile model\n",
        "\topt = Adam(lr=lrate)\n",
        "\tmodel.compile(loss='categorical_crossentropy', optimizer=opt, metrics=['accuracy'])\n",
        "\t# fit model\n",
        "\thistory = model.fit(trainX, trainy, validation_data=(testX, testy), epochs=200, verbose=0)\n",
        "\t# plot learning curves\n",
        "\tpyplot.plot(history.history['accuracy'], label='train')\n",
        "\tpyplot.plot(history.history['val_accuracy'], label='test')\n",
        "\tpyplot.title('lrate='+str(lrate), pad=-50)\n",
        "\n",
        "# create learning curves for different learning rates\n",
        "learning_rates = [1E-6, 1E-7,1E-8,1E-9]\n",
        "for i in range(len(learning_rates)):\n",
        "\t# determine the plot number\n",
        "\tplot_no = 420 + (i+1)\n",
        "\tpyplot.subplot(plot_no)\n",
        "\t# fit model and plot learning curves for a learning rate\n",
        "\tfit_model(X_train, y_train, X_test, y_test, learning_rates[i])\n",
        "# show learning curves\n",
        "pyplot.show()"
      ],
      "execution_count": 27,
      "outputs": [
        {
          "output_type": "display_data",
          "data": {
            "image/png": "[encoded data removed]",
            "text/plain": [
              "<Figure size 432x288 with 4 Axes>"
            ]
          },
          "metadata": {
            "tags": [],
            "needs_background": "light"
          }
        }
      ]
    },
    {
      "cell_type": "code",
      "metadata": {
        "id": "WZdy4Bu1QujV"
      },
      "source": [
        ""
      ],
      "execution_count": null,
      "outputs": []
    },
    {
      "cell_type": "code",
      "metadata": {
        "id": "qgAeXlhZQujV",
        "outputId": "28101cb2-a942-4e32-9a0b-d368f1ebc09c"
      },
      "source": [
        "#-------------------REGRESSION LOGISTIQUE WITH SCIKIT LEARN ---------------------\n",
        "from sklearn.linear_model import LogisticRegression\n",
        "from sklearn.dummy import DummyClassifier\n",
        "grid={\"C\":np.logspace(-3,3,7), \"penalty\":[\"l1\",\"l2\"]}# l1 lasso l2 ridge\n",
        "logreg=LogisticRegression()\n",
        "logreg_cv=GridSearchCV(logreg,grid,cv=4)\n",
        "logreg_cv.fit(X_train,y_train)\n",
        "#score\n",
        "best_parameters = logreg_cv.best_params_\n",
        "best_accuracy = logreg_cv.best_score_\n",
        "print(best_accuracy,best_parameters)\n"
      ],
      "execution_count": null,
      "outputs": [
        {
          "output_type": "stream",
          "text": [
            "0.4074846356453029 {'C': 0.1, 'penalty': 'l2'}\n"
          ],
          "name": "stdout"
        }
      ]
    },
    {
      "cell_type": "code",
      "metadata": {
        "id": "3uXnAatjQujV",
        "outputId": "17d1ed48-d114-4010-8431-d3bca785b10b"
      },
      "source": [
        "#-------------------RANDOM FOREST WITH SCIKIT LEARN ---------------------\n",
        "\n",
        "from sklearn.ensemble import RandomForestClassifier\n",
        "rfc=RandomForestClassifier(random_state=42)\n",
        "\n",
        "param_grid = { \n",
        "    'n_estimators': [50,100],\n",
        "    'max_features': ['auto', 'sqrt', 'log2'],\n",
        "    'max_depth' : [4,8],\n",
        "    'criterion' :['gini', 'entropy']\n",
        "}\n",
        "\n",
        "CV_rfc = GridSearchCV(estimator=rfc, param_grid=param_grid, cv= 3)\n",
        "CV_rfc.fit(X_train, y_train)\n",
        "#score\n",
        "best_parameters = CV_rfc.best_params_\n",
        "best_accuracy = CV_rfc.best_score_\n",
        "print(best_accuracy,best_parameters)\n"
      ],
      "execution_count": null,
      "outputs": [
        {
          "output_type": "stream",
          "text": [
            "0.5592592592592592 {'criterion': 'gini', 'max_depth': 8, 'max_features': 'auto', 'n_estimators': 50}\n"
          ],
          "name": "stdout"
        }
      ]
    },
    {
      "cell_type": "code",
      "metadata": {
        "id": "3aDxFOeHQujV",
        "outputId": "36f9fb71-ffb8-433e-c49a-45ccfd653b31"
      },
      "source": [
        "#-------------------SVM WITH SCIKIT LEARN ---------------------\n",
        "from sklearn import svm\n",
        "from sklearn.model_selection import GridSearchCV\n",
        "\n",
        "from sklearn.model_selection import cross_val_score\n",
        "\n",
        "param_grid = {'C': [1e3, 1e5],\n",
        "              'gamma': [0.0001, 0.1], }\n",
        "clf = GridSearchCV(\n",
        "    svm.SVC(kernel='rbf', class_weight='balanced'), param_grid\n",
        ")\n",
        "clf = clf.fit(X_train, y_train)\n",
        "#score\n",
        "best_parameters = clf.best_params_\n",
        "best_accuracy = clf.best_score_\n",
        "print(best_accuracy,best_parameters)\n",
        "#scores = cross_val_score(clf, X_train, y_train, cv=5)\n",
        "#print(\"Accuracy: %0.2f (+/- %0.2f)\" % (scores.mean(), scores.std() * 2))\n",
        "# Use score method to get accuracy of model\n"
      ],
      "execution_count": null,
      "outputs": [
        {
          "output_type": "stream",
          "text": [
            "0.5962962962962963 {'C': 1000.0, 'gamma': 0.0001}\n"
          ],
          "name": "stdout"
        }
      ]
    },
    {
      "cell_type": "code",
      "metadata": {
        "id": "ekWMMWQrQujV"
      },
      "source": [
        "#-------------------Neural Network WITH SCIKIT LEARN ---------------------\n",
        "from sklearn.neural_network import MLPClassifier\n",
        "from sklearn.model_selection import cross_val_score\n",
        "\n",
        "parameters = {'solver': ['lbfgs'], 'max_iter': [100,200 ], 'alpha': 10.0 ** -np.arange(1, 5), 'hidden_layer_sizes':np.arange(10, 12), 'random_state':[0,3,6,9]}\n",
        "ML = GridSearchCV(MLPClassifier(), parameters, n_jobs=-1)\n",
        "\n",
        "ML.fit(X_train, y_train)\n",
        "\n",
        "#score\n",
        "best_parameters = ML.best_params_\n",
        "best_accuracy = ML.best_score_\n",
        "print(best_accuracy,best_parameters)\n"
      ],
      "execution_count": null,
      "outputs": []
    },
    {
      "cell_type": "markdown",
      "metadata": {
        "id": "FPJ1qExlv6BQ"
      },
      "source": [
        "**<ins>Question</ins>: Évaluer les modèles appris en décrivant votre méthode**"
      ]
    },
    {
      "cell_type": "markdown",
      "metadata": {
        "id": "gNAFZTFvv6BS"
      },
      "source": [
        "Pour chaques modèle on entraîne sur le jeu de donnée puis on test. \n",
        "Pour ce qui est des méthodes d'optimisation des hyper-paramètres, il y a deux méthodes:\n",
        "-Learning/validation curve \n",
        "elle permet de voir l'évolution de la qualité du modèle en fonction de l'entraînement. \n",
        "Très utile pour detecter le surentraînement et autre spécificités du modèle.\n",
        "\n",
        "-Grid search CV \n",
        "Permet de croiser tout les hyper-paramètres spécifiés et ressort le modèle avec les meilleurs hyper-paramètres.\n",
        "\n",
        "# Pour le réseau de neurones avec tensorflow:\n",
        "J'ai utilisé les deux méthodes \n",
        "Le réseau permet d'obtenir une accuracy de 46% sur les données d'entraînement et de 43% sur les données de test.\n",
        "\n",
        "# Regression logistique:\n",
        "j'utilise Grid search CV \n",
        "\n",
        "hyper-paramètres: Learning rate, C paramètre de régularisation\n",
        "\n",
        "J'obtiens un score de 41%\n",
        "\n",
        "# Random forest:\n",
        "j'utilise Grid search CV \n",
        "\n",
        "hyper-paramètres: Profondeur de l'arbre, nombre d'arbres dans la forêt \n",
        "\n",
        "J'obtiens un score de 35%\n",
        "\n",
        "# SVM:\n",
        "j'utilise Grid search CV \n",
        "\n",
        "hyper-paramètres: C paramètre de régularisation, gamma \n",
        "\n",
        "J'obtiens un score de 71%\n",
        "\n",
        "# Neural Network with Sklearn\n",
        "j'utilise Grid search CV \n",
        "\n",
        "hyper-paramètres: Learning rate, nombre d'hiden layer, le solver (algo backpropagation)...\n",
        "\n",
        "J'obtiens un score de 71%\n",
        "\n",
        "\n",
        "Le modèle SVM est donc le grand gagnant pour cette classification. \n",
        "Ce qui est prévisible car étant donné le jeu de données, c'est celui qui est recommandé par la SKlearn map que l'on peut retrouver sur l'API de la bibliothèque."
      ]
    },
    {
      "cell_type": "markdown",
      "metadata": {
        "id": "_Xw7bbYtv6BX"
      },
      "source": [
        "**<ins>Question</ins>: Réalisez un diagramme fonctionnel décrivant le flux des données tout au long de l'approche supervisée. Ce diagramme devra faire apparaître au minimum: les trois ensembles d'images, les descripteurs, les différents algorithmes d'apprentissage, l'évaluation (mettre une image dans le répertoire courant et dans la cellule ci-dessous remplacer par le nom du fichier)**"
      ]
    },
    {
      "cell_type": "markdown",
      "metadata": {
        "id": "KDclLV6xv6BX"
      },
      "source": [
        " <img src=\"graphs.png\" />"
      ]
    },
    {
      "cell_type": "markdown",
      "metadata": {
        "id": "aNgbxS-Fv6BY"
      },
      "source": [
        "# Partie 2: Approche supervisée sur descripteurs issus du scattering operator"
      ]
    },
    {
      "cell_type": "markdown",
      "metadata": {
        "id": "fTyHJCfTQujV"
      },
      "source": [
        "## Chargement des descripteurs"
      ]
    },
    {
      "cell_type": "markdown",
      "metadata": {
        "id": "LYGGoa--v6BZ"
      },
      "source": [
        "**<ins>Question</ins>: Chargez les données du fichier matlab imdb_200x200_SmallSonarTex_db_6classes_scatValOnly.mat**"
      ]
    },
    {
      "cell_type": "markdown",
      "metadata": {
        "id": "2LmzGnm9v6BZ"
      },
      "source": [
        "_Your Code below_"
      ]
    },
    {
      "cell_type": "code",
      "metadata": {
        "id": "0w4sdmcCv6Bb"
      },
      "source": [
        "from pythonTools import *\n",
        "from usefulCmds import *\n",
        "import pandas as pd\n",
        "import numpy as np\n",
        "import matplotlib.pyplot as plt\n",
        "from sklearn.preprocessing import StandardScaler\n",
        "from scipy.io import loadmat\n",
        "import numpy as np\n",
        "import pandas as pd\n",
        "import os\n",
        "\n",
        "# Loading the csv file\n",
        "DATASET_PATH = r'./dataset/'\n",
        "DATASET_FILE = r'./imdb_200x200_SmallSonarTex_db_6classes_scatValOnly.mat'\n",
        "DATASET = os.path.join(DATASET_PATH, DATASET_FILE)\n",
        "\n",
        "DATASET_PATH = r'./dataset/imgs/'\n",
        "LABEL_PATH = r'./dataset/labels/labels.csv'\n",
        "dataset_df = pd.read_csv(LABEL_PATH)\n",
        "\n",
        "X = np.array([img.reshape(217,) for img in data_mat[\"featVal\"]])\n",
        "\n",
        "\n",
        "data_mat = loadmat(DATASET)\n",
        "\n",
        "#On récupère les labels\n",
        "label_names = dataset_df['seafloor']\n",
        "label_names_unique = label_names.unique()\n",
        "\n",
        "#  transformation des labels selon différents codages\n",
        "# indices\n",
        "le = preprocessing.LabelEncoder()\n",
        "le.fit(label_names_unique)\n",
        "label_indices = le.transform(label_names_unique)\n",
        "# Getting labels for our dataset\n",
        "y = le.transform(label_names)\n"
      ],
      "execution_count": null,
      "outputs": []
    },
    {
      "cell_type": "markdown",
      "metadata": {
        "id": "xaLfLtawQujW"
      },
      "source": [
        "## Prétraitements"
      ]
    },
    {
      "cell_type": "markdown",
      "metadata": {
        "id": "LpnR5ECxv6Bf"
      },
      "source": [
        "**<ins>Question</ins>: Y-a-t-il besoin de normaliser les descripteurs? Si oui, que faut-il conserver comme information et pourquoi?**"
      ]
    },
    {
      "cell_type": "markdown",
      "metadata": {
        "id": "v1kxf9u-v6Bf"
      },
      "source": [
        "Oui il faut normaliser les descripteurs car cela permet de réduire le temps d'entraînement. Notamment pour les réseaux de neuronnes. En revanche , il faut garder la taille du vecteur et bien sûr les paramètres de la normalisation. Ces paramètres sont essentielles pour faire une prédiction. En effet, on entraîne le réseau sur un jeu de données normalisé. Il faut garder ces paramètres pour pouvoir présenter au réseau une image dans les même condition lors d'une prédiction ( moyenne , écart-type)."
      ]
    },
    {
      "cell_type": "markdown",
      "metadata": {
        "id": "Pa57t02CQujW"
      },
      "source": [
        "_Your Code below_"
      ]
    },
    {
      "cell_type": "code",
      "metadata": {
        "id": "nz6os5L9QujW",
        "outputId": "cbb6fd6e-9406-4e19-d329-ec2cd1263873"
      },
      "source": [
        "# Splitting the dataset into the Training set and Test set\n",
        "\n",
        "X_train, X_test, y_train, y_test = train_test_split(X, y, test_size = 0.25, random_state = 0)\n",
        "print(X_train.shape, y_train.shape, X_test.shape, y_test.shape)\n",
        "\n",
        "sc = StandardScaler()\n",
        "X_train = sc.fit_transform(X_train)\n",
        "X_test = sc.transform(X_test)\n"
      ],
      "execution_count": null,
      "outputs": [
        {
          "output_type": "stream",
          "text": [
            "(270, 217) (270,) (90, 217) (90,)\n"
          ],
          "name": "stdout"
        }
      ]
    },
    {
      "cell_type": "markdown",
      "metadata": {
        "id": "tOUUuqesQujW"
      },
      "source": [
        "## Apprentissage"
      ]
    },
    {
      "cell_type": "markdown",
      "metadata": {
        "id": "EKfZD5Ymv6Bg"
      },
      "source": [
        "<strong><ins>Question</ins>: Séparer en deux ensembles de données et réalisez l'apprentissage successifs des modèles:\n",
        "* régression logistique, réseaux de neurones, svm et random forest en utilisant les fonctions du package scikit-learn\n",
        "</strong>\n",
        "\n",
        "<span style='color:red'> **Pas de code à développer ici, réutiliser celui de la partie 1**</span>"
      ]
    },
    {
      "cell_type": "markdown",
      "metadata": {
        "id": "7N1W3SAeQujW"
      },
      "source": [
        "## Fixer les hyper paramètres"
      ]
    },
    {
      "cell_type": "markdown",
      "metadata": {
        "id": "wMEkJXYOQujW"
      },
      "source": [
        "**<ins>Question</ins>: Déterminez les hyper-paramètres (paramètre uniquement lié à l'algorithme d'apprentissage) de chaque algorithme. Comment allez vous les fixer?**"
      ]
    },
    {
      "cell_type": "markdown",
      "metadata": {
        "id": "J7VljD2mQujW"
      },
      "source": [
        "Même façon que la partie 1. Lire la partie 1.\n",
        "\n",
        "Il y a deux possibilités de faire :\n",
        "\n",
        "Utiliser la learning/validation curve qui permet de visualiser l'erreur du réseau en fonction du nombre d'entraînement.\n",
        "\n",
        "Utiliser la fonction gridsearch cv bassée sur la cross validation. \n"
      ]
    },
    {
      "cell_type": "markdown",
      "metadata": {
        "id": "OPTVxU1Av6Bt"
      },
      "source": [
        "**<ins>Question</ins>:\n",
        "Lisez le [tutoriel suivant](https://scikit-learn.org/stable/auto_examples/applications/plot_face_recognition.html\\#sphx-glr-auto-examples-applications-plot-face-recognition-py) en faisant particulièrement attention à la façon dont est gérée la détermination des hyperparamètres et l'évaluation des performances. Reproduisez cette méthodologie en testant différents nombres de plis (fold).**"
      ]
    },
    {
      "cell_type": "code",
      "metadata": {
        "id": "J5LRVGpuQujW",
        "outputId": "a07190ee-530b-45bb-a4cd-7019e184753a"
      },
      "source": [
        "#-------------------REGRESSION LOGISTIQUE WITH SCIKIT LEARN ---------------------\n",
        "from sklearn.linear_model import LogisticRegression\n",
        "from sklearn.dummy import DummyClassifier\n",
        "from sklearn.model_selection import GridSearchCV\n",
        "\n",
        "grid={\"C\":np.logspace(-3,3,7), \"penalty\":[\"l1\",\"l2\"]}# l1 lasso l2 ridge\n",
        "logreg=LogisticRegression()\n",
        "logreg_cv=GridSearchCV(logreg,grid,cv=4)\n",
        "logreg_cv.fit(X_train,y_train)\n",
        "#score\n",
        "best_parameters = logreg_cv.best_params_\n",
        "best_accuracy = logreg_cv.best_score_\n",
        "print(best_accuracy,best_parameters)\n"
      ],
      "execution_count": null,
      "outputs": [
        {
          "output_type": "stream",
          "text": [
            "0.9888608428446005 {'C': 1.0, 'penalty': 'l2'}\n"
          ],
          "name": "stdout"
        }
      ]
    },
    {
      "cell_type": "code",
      "metadata": {
        "id": "AyaSW0qWQujW",
        "outputId": "4b89f9ff-7b61-4d63-f824-8a3047c4f3f8"
      },
      "source": [
        "#-------------------RANDOM FOREST WITH SCIKIT LEARN ---------------------\n",
        "\n",
        "from sklearn.ensemble import RandomForestClassifier\n",
        "rfc=RandomForestClassifier(random_state=42)\n",
        "\n",
        "param_grid = { \n",
        "    'n_estimators': [50,100],\n",
        "    'max_features': ['auto', 'sqrt', 'log2'],\n",
        "    'max_depth' : [4,8],\n",
        "    'criterion' :['gini', 'entropy']\n",
        "}\n",
        "\n",
        "CV_rfc = GridSearchCV(estimator=rfc, param_grid=param_grid, cv= 3)\n",
        "CV_rfc.fit(X_train, y_train)\n",
        "#score\n",
        "best_parameters = CV_rfc.best_params_\n",
        "best_accuracy = CV_rfc.best_score_\n",
        "print(best_accuracy,best_parameters)\n"
      ],
      "execution_count": null,
      "outputs": [
        {
          "output_type": "stream",
          "text": [
            "0.9592592592592593 {'criterion': 'gini', 'max_depth': 8, 'max_features': 'log2', 'n_estimators': 100}\n"
          ],
          "name": "stdout"
        }
      ]
    },
    {
      "cell_type": "code",
      "metadata": {
        "id": "3mNBexjOQujW",
        "outputId": "97c3f920-26a1-4838-e53b-1ab5440d648f"
      },
      "source": [
        "#-------------------SVM WITH SCIKIT LEARN ---------------------\n",
        "from sklearn import svm\n",
        "from sklearn.model_selection import cross_val_score\n",
        "\n",
        "param_grid = {'C': [1e3,1e4, 1e5],\n",
        "              'gamma': [0.0001,0.001,0.005,0.01,0.05, 0.1], }\n",
        "clf = GridSearchCV(\n",
        "    svm.SVC(kernel='rbf', class_weight='balanced'), param_grid\n",
        ")\n",
        "clf = clf.fit(X_train, y_train)\n",
        "#score\n",
        "best_parameters = clf.best_params_\n",
        "best_accuracy = clf.best_score_\n",
        "print(best_accuracy,best_parameters)\n",
        "#scores = cross_val_score(clf, X_train, y_train, cv=5)\n",
        "#print(\"Accuracy: %0.2f (+/- %0.2f)\" % (scores.mean(), scores.std() * 2))\n",
        "# Use score method to get accuracy of model"
      ],
      "execution_count": null,
      "outputs": [
        {
          "output_type": "stream",
          "text": [
            "0.9925925925925926 {'C': 1000.0, 'gamma': 0.01}\n"
          ],
          "name": "stdout"
        }
      ]
    },
    {
      "cell_type": "code",
      "metadata": {
        "id": "3GgQHdwrQujW",
        "outputId": "de00bb54-bab5-4dfe-e2ab-ef163e42c4b6"
      },
      "source": [
        "#-------------------Neural Network WITH SCIKIT LEARN ---------------------\n",
        "from sklearn.neural_network import MLPClassifier\n",
        "from sklearn.model_selection import cross_val_score\n",
        "\n",
        "parameters = {'solver': ['lbfgs'], 'max_iter': [1000,2000 ], 'alpha': 10.0 ** -np.arange(1, 5), 'hidden_layer_sizes':np.arange(10, 12), 'random_state':[0,3,6,9]}\n",
        "ML = GridSearchCV(MLPClassifier(), parameters, n_jobs=-1)\n",
        "\n",
        "ML.fit(X_train, y_train)\n",
        "\n",
        "#score\n",
        "best_parameters = ML.best_params_\n",
        "best_accuracy = ML.best_score_\n",
        "print(best_accuracy,best_parameters)\n"
      ],
      "execution_count": null,
      "outputs": [
        {
          "output_type": "stream",
          "text": [
            "0.9962962962962962 {'alpha': 0.01, 'hidden_layer_sizes': 10, 'max_iter': 1000, 'random_state': 9, 'solver': 'lbfgs'}\n"
          ],
          "name": "stdout"
        }
      ]
    },
    {
      "cell_type": "markdown",
      "metadata": {
        "id": "CXG85EQLv6Bn"
      },
      "source": [
        "**<ins>Question</ins>: Évaluer les résultats et donner la valeur des paramètres optimaux**"
      ]
    },
    {
      "cell_type": "markdown",
      "metadata": {
        "id": "2imQo5dcv6Bu"
      },
      "source": [
        "# Résultats\n",
        "\n",
        "## Regression logistique\n",
        "Best score = 0.9888608428446005\n",
        "\n",
        "Best parametres : C=1.0, 'penalty=l2\n",
        "\n",
        "## Random forest\n",
        "Best score = 0.9592592592592593\n",
        "\n",
        "Best parametres : criterion = gini, max_depth = 8, max_features = log2, n_estimators = 100\n",
        "\n",
        "## SVM\n",
        "Best score = 0.9925925925925926\n",
        "\n",
        "Best parametres : C = 1000.0, gamma = 0.01\n",
        "\n",
        "## Neural Network\n",
        "Best score = 0.9962962962962962\n",
        "\n",
        "Best parametres : alpha = 0.01, hidden_layer_sizes = 10, max_iter = 1000, random_state = 9, solver = lbfgs\n"
      ]
    },
    {
      "cell_type": "markdown",
      "metadata": {
        "id": "GCfpimWXQujW"
      },
      "source": [
        "## Apprendre le modèle final pour chaque classifieur"
      ]
    },
    {
      "cell_type": "code",
      "metadata": {
        "id": "oaScSTpdQujW",
        "outputId": "c2a478bb-b7a6-4e14-c9c2-dbf258236b4d"
      },
      "source": [
        "# Logistic regression\n",
        "logreg=LogisticRegression(C=1.0, penalty='l2')\n",
        "logreg.fit(X_train,y_train)\n",
        "# Now predict the value of the digit on the second half:\n",
        "predicted = logreg.predict(X_test)\n",
        "\n",
        "print(\"Classification report for classifier %s:\\n%s\\n\"\n",
        "      % (logreg, metrics.classification_report(y_test, predicted)))\n",
        "disp = metrics.plot_confusion_matrix(logreg, X_test, y_test)\n",
        "disp.figure_.suptitle(\"Confusion Matrix\")\n",
        "print(\"Confusion matrix:\\n%s\" % disp.confusion_matrix)\n",
        "\n",
        "plt.show()"
      ],
      "execution_count": null,
      "outputs": [
        {
          "output_type": "stream",
          "text": [
            "Classification report for classifier LogisticRegression(C=1.0, class_weight=None, dual=False, fit_intercept=True,\n",
            "                   intercept_scaling=1, l1_ratio=None, max_iter=100,\n",
            "                   multi_class='auto', n_jobs=None, penalty='l2',\n",
            "                   random_state=None, solver='lbfgs', tol=0.0001, verbose=0,\n",
            "                   warm_start=False):\n",
            "              precision    recall  f1-score   support\n",
            "\n",
            "           0       1.00      1.00      1.00        15\n",
            "           1       1.00      1.00      1.00        17\n",
            "           2       0.83      1.00      0.91        10\n",
            "           3       1.00      0.94      0.97        16\n",
            "           4       1.00      1.00      1.00        16\n",
            "           5       0.93      0.88      0.90        16\n",
            "\n",
            "    accuracy                           0.97        90\n",
            "   macro avg       0.96      0.97      0.96        90\n",
            "weighted avg       0.97      0.97      0.97        90\n",
            "\n",
            "\n",
            "Confusion matrix:\n",
            "[[15  0  0  0  0  0]\n",
            " [ 0 17  0  0  0  0]\n",
            " [ 0  0 10  0  0  0]\n",
            " [ 0  0  0 15  0  1]\n",
            " [ 0  0  0  0 16  0]\n",
            " [ 0  0  2  0  0 14]]\n"
          ],
          "name": "stdout"
        },
        {
          "output_type": "display_data",
          "data": {
            "image/png": "[encoded data removed]",
            "text/plain": [
              "<Figure size 432x288 with 2 Axes>"
            ]
          },
          "metadata": {
            "tags": []
          }
        }
      ]
    },
    {
      "cell_type": "code",
      "metadata": {
        "id": "TshOkDtsQujX",
        "outputId": "aff4af02-27d9-4dbb-c7e3-57d43bdc5d31"
      },
      "source": [
        "#Random Forest\n",
        "\n",
        "rfc=RandomForestClassifier(random_state=42,criterion='gini',max_depth=8, max_features='log2',n_estimators=100)\n",
        "rfc.fit(X_train,y_train)\n",
        "# Now predict the value of the digit on the second half:\n",
        "predicted = rfc.predict(X_test)\n",
        "\n",
        "print(\"Classification report for classifier %s:\\n%s\\n\"\n",
        "      % (rfc, metrics.classification_report(y_test, predicted)))\n",
        "disp = metrics.plot_confusion_matrix(rfc, X_test, y_test)\n",
        "disp.figure_.suptitle(\"Confusion Matrix\")\n",
        "print(\"Confusion matrix:\\n%s\" % disp.confusion_matrix)\n",
        "\n",
        "plt.show()\n"
      ],
      "execution_count": null,
      "outputs": [
        {
          "output_type": "stream",
          "text": [
            "Classification report for classifier RandomForestClassifier(bootstrap=True, ccp_alpha=0.0, class_weight=None,\n",
            "                       criterion='gini', max_depth=8, max_features='log2',\n",
            "                       max_leaf_nodes=None, max_samples=None,\n",
            "                       min_impurity_decrease=0.0, min_impurity_split=None,\n",
            "                       min_samples_leaf=1, min_samples_split=2,\n",
            "                       min_weight_fraction_leaf=0.0, n_estimators=100,\n",
            "                       n_jobs=None, oob_score=False, random_state=42, verbose=0,\n",
            "                       warm_start=False):\n",
            "              precision    recall  f1-score   support\n",
            "\n",
            "           0       1.00      1.00      1.00        15\n",
            "           1       1.00      0.94      0.97        17\n",
            "           2       0.69      0.90      0.78        10\n",
            "           3       0.94      0.94      0.94        16\n",
            "           4       1.00      1.00      1.00        16\n",
            "           5       0.93      0.81      0.87        16\n",
            "\n",
            "    accuracy                           0.93        90\n",
            "   macro avg       0.93      0.93      0.93        90\n",
            "weighted avg       0.94      0.93      0.94        90\n",
            "\n",
            "\n",
            "Confusion matrix:\n",
            "[[15  0  0  0  0  0]\n",
            " [ 0 16  0  1  0  0]\n",
            " [ 0  0  9  0  0  1]\n",
            " [ 0  0  1 15  0  0]\n",
            " [ 0  0  0  0 16  0]\n",
            " [ 0  0  3  0  0 13]]\n"
          ],
          "name": "stdout"
        },
        {
          "output_type": "display_data",
          "data": {
            "image/png": "[encoded data removed]",
            "text/plain": [
              "<Figure size 432x288 with 2 Axes>"
            ]
          },
          "metadata": {
            "tags": []
          }
        }
      ]
    },
    {
      "cell_type": "code",
      "metadata": {
        "id": "_nvBF7qXQujX",
        "outputId": "f4d20511-21ff-4485-9529-34f4be27158b"
      },
      "source": [
        "#SVM\n",
        "\n",
        "clf=svm.SVC(kernel='rbf', class_weight='balanced',C=1000.0, gamma= 0.01)\n",
        "clf.fit(X_train,y_train)\n",
        "# Now predict the value of the digit on the second half:\n",
        "predicted = clf.predict(X_test)\n",
        "\n",
        "print(\"Classification report for classifier %s:\\n%s\\n\"\n",
        "      % (clf, metrics.classification_report(y_test, predicted)))\n",
        "disp = metrics.plot_confusion_matrix(clf, X_test, y_test)\n",
        "disp.figure_.suptitle(\"Confusion Matrix\")\n",
        "print(\"Confusion matrix:\\n%s\" % disp.confusion_matrix)\n",
        "\n",
        "plt.show()\n"
      ],
      "execution_count": null,
      "outputs": [
        {
          "output_type": "stream",
          "text": [
            "Classification report for classifier SVC(C=1000.0, break_ties=False, cache_size=200, class_weight='balanced',\n",
            "    coef0=0.0, decision_function_shape='ovr', degree=3, gamma=0.01,\n",
            "    kernel='rbf', max_iter=-1, probability=False, random_state=None,\n",
            "    shrinking=True, tol=0.001, verbose=False):\n",
            "              precision    recall  f1-score   support\n",
            "\n",
            "           0       1.00      1.00      1.00        15\n",
            "           1       1.00      1.00      1.00        17\n",
            "           2       0.91      1.00      0.95        10\n",
            "           3       1.00      0.94      0.97        16\n",
            "           4       1.00      1.00      1.00        16\n",
            "           5       0.94      0.94      0.94        16\n",
            "\n",
            "    accuracy                           0.98        90\n",
            "   macro avg       0.97      0.98      0.98        90\n",
            "weighted avg       0.98      0.98      0.98        90\n",
            "\n",
            "\n",
            "Confusion matrix:\n",
            "[[15  0  0  0  0  0]\n",
            " [ 0 17  0  0  0  0]\n",
            " [ 0  0 10  0  0  0]\n",
            " [ 0  0  0 15  0  1]\n",
            " [ 0  0  0  0 16  0]\n",
            " [ 0  0  1  0  0 15]]\n"
          ],
          "name": "stdout"
        },
        {
          "output_type": "display_data",
          "data": {
            "image/png": "[encoded data removed]",
            "text/plain": [
              "<Figure size 432x288 with 2 Axes>"
            ]
          },
          "metadata": {
            "tags": []
          }
        }
      ]
    },
    {
      "cell_type": "code",
      "metadata": {
        "id": "b2ncNG_hQujX",
        "outputId": "b2fdb4be-7e0a-49cc-8d4d-617d6573a7ac"
      },
      "source": [
        "# Neural network\n",
        "ML=MLPClassifier(solver='lbfgs',alpha=0.01, hidden_layer_sizes=10, max_iter=1000, random_state=9)\n",
        "ML.fit(X_train,y_train)\n",
        "# Now predict the value of the digit on the second half:\n",
        "predicted = ML.predict(X_test)\n",
        "\n",
        "print(\"Classification report for classifier %s:\\n%s\\n\"\n",
        "      % (ML, metrics.classification_report(y_test, predicted)))\n",
        "disp = metrics.plot_confusion_matrix(ML, X_test, y_test)\n",
        "disp.figure_.suptitle(\"Confusion Matrix\")\n",
        "print(\"Confusion matrix:\\n%s\" % disp.confusion_matrix)\n",
        "\n",
        "plt.show()\n",
        "\n"
      ],
      "execution_count": null,
      "outputs": [
        {
          "output_type": "stream",
          "text": [
            "Classification report for classifier MLPClassifier(activation='relu', alpha=0.01, batch_size='auto', beta_1=0.9,\n",
            "              beta_2=0.999, early_stopping=False, epsilon=1e-08,\n",
            "              hidden_layer_sizes=10, learning_rate='constant',\n",
            "              learning_rate_init=0.001, max_fun=15000, max_iter=1000,\n",
            "              momentum=0.9, n_iter_no_change=10, nesterovs_momentum=True,\n",
            "              power_t=0.5, random_state=9, shuffle=True, solver='lbfgs',\n",
            "              tol=0.0001, validation_fraction=0.1, verbose=False,\n",
            "              warm_start=False):\n",
            "              precision    recall  f1-score   support\n",
            "\n",
            "           0       1.00      1.00      1.00        15\n",
            "           1       1.00      1.00      1.00        17\n",
            "           2       0.91      1.00      0.95        10\n",
            "           3       1.00      0.94      0.97        16\n",
            "           4       1.00      1.00      1.00        16\n",
            "           5       0.94      0.94      0.94        16\n",
            "\n",
            "    accuracy                           0.98        90\n",
            "   macro avg       0.97      0.98      0.98        90\n",
            "weighted avg       0.98      0.98      0.98        90\n",
            "\n",
            "\n",
            "Confusion matrix:\n",
            "[[15  0  0  0  0  0]\n",
            " [ 0 17  0  0  0  0]\n",
            " [ 0  0 10  0  0  0]\n",
            " [ 0  0  0 15  0  1]\n",
            " [ 0  0  0  0 16  0]\n",
            " [ 0  0  1  0  0 15]]\n"
          ],
          "name": "stdout"
        },
        {
          "output_type": "display_data",
          "data": {
            "image/png": "[encoded data removed]",
            "text/plain": [
              "<Figure size 432x288 with 2 Axes>"
            ]
          },
          "metadata": {
            "tags": []
          }
        }
      ]
    },
    {
      "cell_type": "markdown",
      "metadata": {
        "id": "3rpSf449v6Bt"
      },
      "source": [
        "# Résultats des modèles finaux\n",
        "Dans cette dernière partie, on a entraîné les différents modèles avec les hyper-paramètres optimaux que nous avions déterminez dans la partie précédente. \n",
        "On a pu évaluer ces différents modèles sur le test set. \n",
        "On a pu visualiser notamment la matrice de confusion qui permet de visualiser les erreurs qu'à pu commettre le modèle lors de la prédiction des images du test set.\n",
        "\n",
        "## Regression logistique\n",
        "Comme on peut le visualiser sur la matrice de confusion le modèle de Regression logistique a fait 3 erreurs sur le test set.\n",
        "\n",
        "## Random forest\n",
        "Comme on peut le visualiser sur la matrice de confusion le modèle de Random forest a fait 6 erreurs sur le test set.\n",
        "\n",
        "## SVM\n",
        "Comme on peut le visualiser sur la matrice de confusion le modèle SVM a fait 2 erreurs sur le test set.\n",
        "\n",
        "## Neural Network\n",
        "Comme on peut le visualiser sur la matrice de confusion le modèle de Machine learning a fait 2 erreurs sur le test set."
      ]
    },
    {
      "cell_type": "markdown",
      "metadata": {
        "id": "YnMpegufv6By"
      },
      "source": [
        "## Partie 4 Analyse finale des résultats\n"
      ]
    },
    {
      "cell_type": "markdown",
      "metadata": {
        "id": "Ew9r6cPgv6By"
      },
      "source": [
        "**<ins>Question</ins>: Réalisez un diagramme fonctionnel décrivant le flux des données tout au long de l'approche supervisée. Ce diagramme devra faire apparaître au minimum: les trois ensembles d'images, les descripteurs, les différents algorithmes d'apprentissage, l'évaluation, les différents blocs de traitements.**"
      ]
    },
    {
      "cell_type": "markdown",
      "metadata": {
        "id": "k91uEbZGv6B1"
      },
      "source": [
        " <img src=\"graphs.png\" />"
      ]
    },
    {
      "cell_type": "markdown",
      "metadata": {
        "id": "YVqpga1vv6B5"
      },
      "source": [
        "**<ins>Question</ins>: Faites une synthèse des résultats obtenus. Dresser en particulier des conclusions en fonction des descripteurs utilisés, des algorithmes utilisés et des prétraitements effectués.**"
      ]
    },
    {
      "cell_type": "markdown",
      "metadata": {
        "id": "dUF82_f1v6B5"
      },
      "source": [
        "La synthèse des différents modèles a été réalisée précédement. On s'aperçoit que les modèles les plus performant sont le modèle de neural network et SVM qu'on pouvait prédire grace à la carte proposée par SKlearn.On remarque que le traitement de convolution et de pooling pour les données de la partie 2 a permis aux modèles de converger vers des résultats bien meilleurs qu'à la partie 1.\n",
        "Ainsi de façon général pour un traitement d'image on retiendra le modèle du neural network avec en amont un traitement de convolution pour l'extraction de features et pooling pour réduire la taille du vecteur d'entrée."
      ]
    }
  ]
}